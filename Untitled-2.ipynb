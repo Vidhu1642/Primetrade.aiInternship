{
 "cells": [
  {
   "cell_type": "code",
   "execution_count": 1,
   "metadata": {},
   "outputs": [
    {
     "name": "stdout",
     "output_type": "stream",
     "text": [
      "              Port_IDs                                      Trade_History\n",
      "0  3925368433214965504  [{'time': 1718899656000, 'symbol': 'SOLUSDT', ...\n",
      "1  4002413037164645377  [{'time': 1718980078000, 'symbol': 'NEARUSDT',...\n",
      "2  3923766029921022977  [{'time': 1718677164000, 'symbol': 'ETHUSDT', ...\n",
      "3  3994879592543698688  [{'time': 1718678214000, 'symbol': 'ETHUSDT', ...\n",
      "4  3926423286576838657  [{'time': 1718979615000, 'symbol': 'ETHUSDT', ...\n",
      "Port_IDs         0\n",
      "Trade_History    1\n",
      "dtype: int64\n"
     ]
    }
   ],
   "source": [
    "import pandas as pd\n",
    "\n",
    "\n",
    "data = pd.read_csv('Data.csv')\n",
    "\n",
    "\n",
    "print(data.head())\n",
    "\n",
    "\n",
    "print(data.isnull().sum())\n"
   ]
  },
  {
   "cell_type": "code",
   "execution_count": 4,
   "metadata": {},
   "outputs": [
    {
     "name": "stdout",
     "output_type": "stream",
     "text": [
      "JSON decoding error: Expecting value: line 1 column 290 (char 289)\n",
      "JSON decoding error: Expecting value: line 1 column 296 (char 295)\n",
      "JSON decoding error: Expecting value: line 1 column 298 (char 297)\n",
      "JSON decoding error: Expecting value: line 1 column 303 (char 302)\n",
      "JSON decoding error: Expecting value: line 1 column 296 (char 295)\n",
      "JSON decoding error: Expecting value: line 1 column 298 (char 297)\n",
      "JSON decoding error: Expecting value: line 1 column 289 (char 288)\n",
      "JSON decoding error: Expecting value: line 1 column 297 (char 296)\n",
      "JSON decoding error: Expecting value: line 1 column 292 (char 291)\n",
      "JSON decoding error: Expecting value: line 1 column 301 (char 300)\n",
      "JSON decoding error: Expecting value: line 1 column 299 (char 298)\n",
      "JSON decoding error: Expecting value: line 1 column 295 (char 294)\n",
      "JSON decoding error: Expecting value: line 1 column 297 (char 296)\n",
      "JSON decoding error: Expecting value: line 1 column 287 (char 286)\n",
      "JSON decoding error: Expecting value: line 1 column 293 (char 292)\n",
      "JSON decoding error: Expecting value: line 1 column 296 (char 295)\n",
      "JSON decoding error: Expecting value: line 1 column 299 (char 298)\n",
      "JSON decoding error: Expecting value: line 1 column 288 (char 287)\n",
      "JSON decoding error: Expecting value: line 1 column 307 (char 306)\n",
      "JSON decoding error: Expecting value: line 1 column 279 (char 278)\n",
      "JSON decoding error: Expecting value: line 1 column 294 (char 293)\n",
      "JSON decoding error: Expecting value: line 1 column 315 (char 314)\n",
      "JSON decoding error: Expecting value: line 1 column 309 (char 308)\n",
      "JSON decoding error: Expecting value: line 1 column 299 (char 298)\n",
      "JSON decoding error: Expecting value: line 1 column 288 (char 287)\n",
      "JSON decoding error: Expecting value: line 1 column 299 (char 298)\n",
      "JSON decoding error: Expecting value: line 1 column 290 (char 289)\n",
      "JSON decoding error: Expecting value: line 1 column 293 (char 292)\n",
      "JSON decoding error: Expecting value: line 1 column 298 (char 297)\n",
      "JSON decoding error: Expecting value: line 1 column 299 (char 298)\n",
      "JSON decoding error: Expecting value: line 1 column 285 (char 284)\n",
      "JSON decoding error: Expecting value: line 1 column 287 (char 286)\n",
      "JSON decoding error: Expecting value: line 1 column 293 (char 292)\n",
      "JSON decoding error: Expecting value: line 1 column 297 (char 296)\n",
      "JSON decoding error: Expecting value: line 1 column 289 (char 288)\n",
      "JSON decoding error: Expecting value: line 1 column 301 (char 300)\n",
      "JSON decoding error: Expecting value: line 1 column 286 (char 285)\n",
      "JSON decoding error: Expecting value: line 1 column 287 (char 286)\n",
      "JSON decoding error: Expecting value: line 1 column 300 (char 299)\n",
      "JSON decoding error: Expecting value: line 1 column 297 (char 296)\n",
      "JSON decoding error: Expecting value: line 1 column 296 (char 295)\n",
      "JSON decoding error: Expecting value: line 1 column 306 (char 305)\n",
      "JSON decoding error: Expecting value: line 1 column 296 (char 295)\n",
      "JSON decoding error: Expecting value: line 1 column 300 (char 299)\n",
      "JSON decoding error: Expecting value: line 1 column 302 (char 301)\n",
      "JSON decoding error: Expecting value: line 1 column 306 (char 305)\n",
      "JSON decoding error: Expecting value: line 1 column 316 (char 315)\n",
      "JSON decoding error: Expecting value: line 1 column 294 (char 293)\n",
      "JSON decoding error: Expecting value: line 1 column 295 (char 294)\n",
      "JSON decoding error: Expecting value: line 1 column 291 (char 290)\n",
      "JSON decoding error: Expecting value: line 1 column 283 (char 282)\n",
      "JSON decoding error: Expecting value: line 1 column 304 (char 303)\n",
      "JSON decoding error: Expecting value: line 1 column 284 (char 283)\n",
      "JSON decoding error: Expecting value: line 1 column 299 (char 298)\n",
      "JSON decoding error: Expecting value: line 1 column 299 (char 298)\n",
      "JSON decoding error: Expecting value: line 1 column 294 (char 293)\n",
      "JSON decoding error: Expecting value: line 1 column 294 (char 293)\n",
      "JSON decoding error: Expecting value: line 1 column 303 (char 302)\n",
      "JSON decoding error: Expecting value: line 1 column 291 (char 290)\n",
      "JSON decoding error: Expecting value: line 1 column 295 (char 294)\n",
      "JSON decoding error: Expecting value: line 1 column 285 (char 284)\n",
      "JSON decoding error: Expecting value: line 1 column 295 (char 294)\n",
      "JSON decoding error: Expecting value: line 1 column 291 (char 290)\n",
      "JSON decoding error: Expecting value: line 1 column 290 (char 289)\n",
      "JSON decoding error: Expecting value: line 1 column 284 (char 283)\n",
      "JSON decoding error: Expecting value: line 1 column 303 (char 302)\n",
      "JSON decoding error: Expecting value: line 1 column 298 (char 297)\n",
      "JSON decoding error: Expecting value: line 1 column 289 (char 288)\n",
      "JSON decoding error: Expecting value: line 1 column 293 (char 292)\n",
      "JSON decoding error: Expecting value: line 1 column 299 (char 298)\n",
      "JSON decoding error: Expecting value: line 1 column 297 (char 296)\n",
      "JSON decoding error: Expecting value: line 1 column 289 (char 288)\n",
      "JSON decoding error: Expecting value: line 1 column 311 (char 310)\n",
      "JSON decoding error: Expecting value: line 1 column 301 (char 300)\n",
      "JSON decoding error: Expecting value: line 1 column 289 (char 288)\n",
      "JSON decoding error: Expecting value: line 1 column 294 (char 293)\n",
      "JSON decoding error: Expecting value: line 1 column 289 (char 288)\n",
      "JSON decoding error: Expecting value: line 1 column 297 (char 296)\n",
      "JSON decoding error: Expecting value: line 1 column 288 (char 287)\n",
      "JSON decoding error: Expecting value: line 1 column 302 (char 301)\n",
      "JSON decoding error: Expecting value: line 1 column 291 (char 290)\n",
      "JSON decoding error: Expecting value: line 1 column 285 (char 284)\n",
      "JSON decoding error: Expecting value: line 1 column 304 (char 303)\n",
      "JSON decoding error: Expecting value: line 1 column 291 (char 290)\n",
      "JSON decoding error: Expecting value: line 1 column 287 (char 286)\n",
      "JSON decoding error: Expecting value: line 1 column 298 (char 297)\n",
      "JSON decoding error: Expecting value: line 1 column 288 (char 287)\n",
      "JSON decoding error: Expecting value: line 1 column 290 (char 289)\n",
      "JSON decoding error: Expecting value: line 1 column 297 (char 296)\n",
      "JSON decoding error: Expecting value: line 1 column 293 (char 292)\n",
      "JSON decoding error: Expecting value: line 1 column 287 (char 286)\n",
      "JSON decoding error: Expecting value: line 1 column 308 (char 307)\n",
      "JSON decoding error: Expecting value: line 1 column 301 (char 300)\n",
      "JSON decoding error: Expecting value: line 1 column 300 (char 299)\n",
      "JSON decoding error: Expecting value: line 1 column 283 (char 282)\n",
      "JSON decoding error: Expecting value: line 1 column 292 (char 291)\n",
      "JSON decoding error: Expecting value: line 1 column 302 (char 301)\n",
      "JSON decoding error: Expecting value: line 1 column 297 (char 296)\n",
      "JSON decoding error: Expecting value: line 1 column 288 (char 287)\n",
      "JSON decoding error: Expecting value: line 1 column 303 (char 302)\n",
      "JSON decoding error: Expecting value: line 1 column 295 (char 294)\n",
      "JSON decoding error: Expecting value: line 1 column 295 (char 294)\n",
      "JSON decoding error: Expecting value: line 1 column 293 (char 292)\n",
      "JSON decoding error: Expecting value: line 1 column 291 (char 290)\n",
      "JSON decoding error: Expecting value: line 1 column 305 (char 304)\n",
      "JSON decoding error: Expecting value: line 1 column 293 (char 292)\n",
      "JSON decoding error: Expecting value: line 1 column 288 (char 287)\n",
      "JSON decoding error: Expecting value: line 1 column 295 (char 294)\n",
      "JSON decoding error: Expecting value: line 1 column 294 (char 293)\n",
      "JSON decoding error: Expecting value: line 1 column 287 (char 286)\n",
      "JSON decoding error: Expecting value: line 1 column 306 (char 305)\n",
      "JSON decoding error: Expecting value: line 1 column 289 (char 288)\n",
      "JSON decoding error: Expecting value: line 1 column 289 (char 288)\n",
      "JSON decoding error: Expecting value: line 1 column 319 (char 318)\n",
      "JSON decoding error: Expecting value: line 1 column 299 (char 298)\n",
      "JSON decoding error: Expecting value: line 1 column 305 (char 304)\n",
      "JSON decoding error: Expecting value: line 1 column 304 (char 303)\n",
      "JSON decoding error: Expecting value: line 1 column 295 (char 294)\n",
      "JSON decoding error: Expecting value: line 1 column 288 (char 287)\n",
      "JSON decoding error: Expecting value: line 1 column 292 (char 291)\n",
      "JSON decoding error: Expecting value: line 1 column 297 (char 296)\n",
      "JSON decoding error: Expecting value: line 1 column 292 (char 291)\n",
      "JSON decoding error: Expecting value: line 1 column 289 (char 288)\n",
      "JSON decoding error: Expecting value: line 1 column 290 (char 289)\n",
      "JSON decoding error: Expecting value: line 1 column 316 (char 315)\n",
      "JSON decoding error: Expecting value: line 1 column 292 (char 291)\n",
      "JSON decoding error: Expecting value: line 1 column 301 (char 300)\n",
      "JSON decoding error: Expecting value: line 1 column 300 (char 299)\n",
      "JSON decoding error: Expecting value: line 1 column 296 (char 295)\n",
      "JSON decoding error: Expecting value: line 1 column 304 (char 303)\n",
      "JSON decoding error: Expecting value: line 1 column 292 (char 291)\n",
      "JSON decoding error: Expecting value: line 1 column 291 (char 290)\n",
      "JSON decoding error: Expecting value: line 1 column 293 (char 292)\n",
      "JSON decoding error: Expecting value: line 1 column 294 (char 293)\n",
      "JSON decoding error: Expecting value: line 1 column 298 (char 297)\n",
      "JSON decoding error: Expecting value: line 1 column 296 (char 295)\n",
      "JSON decoding error: Expecting value: line 1 column 288 (char 287)\n",
      "JSON decoding error: Expecting value: line 1 column 304 (char 303)\n",
      "JSON decoding error: Expecting value: line 1 column 319 (char 318)\n",
      "JSON decoding error: Expecting value: line 1 column 310 (char 309)\n",
      "JSON decoding error: Expecting value: line 1 column 292 (char 291)\n",
      "JSON decoding error: Expecting value: line 1 column 299 (char 298)\n",
      "JSON decoding error: Expecting value: line 1 column 294 (char 293)\n",
      "JSON decoding error: Expecting value: line 1 column 297 (char 296)\n",
      "JSON decoding error: Expecting value: line 1 column 295 (char 294)\n",
      "JSON decoding error: Expecting value: line 1 column 302 (char 301)\n",
      "JSON decoding error: Expecting value: line 1 column 294 (char 293)\n",
      "JSON decoding error: Expecting value: line 1 column 290 (char 289)\n",
      "JSON decoding error: Expecting value: line 1 column 291 (char 290)\n",
      "              Port_IDs                                      Trade_History  \\\n",
      "0  3925368433214965504  [{'time': 1718899656000, 'symbol': 'SOLUSDT', ...   \n",
      "1  4002413037164645377  [{'time': 1718980078000, 'symbol': 'NEARUSDT',...   \n",
      "2  3923766029921022977  [{'time': 1718677164000, 'symbol': 'ETHUSDT', ...   \n",
      "3  3994879592543698688  [{'time': 1718678214000, 'symbol': 'ETHUSDT', ...   \n",
      "4  3926423286576838657  [{'time': 1718979615000, 'symbol': 'ETHUSDT', ...   \n",
      "\n",
      "  realizedProfit quantity positionSide  \n",
      "0             []       []           []  \n",
      "1             []       []           []  \n",
      "2             []       []           []  \n",
      "3             []       []           []  \n",
      "4             []       []           []  \n"
     ]
    }
   ],
   "source": [
    "import json\n",
    "\n",
    "\n",
    "def clean_and_parse_trade_history(trade_history_str):\n",
    "\n",
    "    if isinstance(trade_history_str, str):\n",
    "        \n",
    "        trade_history_str = trade_history_str.replace(\"'\", '\"')\n",
    "        try:\n",
    "           \n",
    "            trade_history = json.loads(trade_history_str)\n",
    "        except json.JSONDecodeError as e:\n",
    "        \n",
    "            print(f\"JSON decoding error: {e}\")\n",
    "            return [], [], []\n",
    "    else:\n",
    "       \n",
    "        return [], [], []\n",
    "\n",
    "    realized_profits = []\n",
    "    quantities = []\n",
    "    positions = []\n",
    "\n",
    "    for trade in trade_history:\n",
    "        realized_profits.append(trade.get('realizedProfit', 0))\n",
    "        quantities.append(trade.get('qty', 0))\n",
    "        positions.append(trade.get('positionSide', ''))\n",
    "\n",
    "    return realized_profits, quantities, positions\n",
    "\n",
    "\n",
    "data[['realizedProfit', 'quantity', 'positionSide']] = data['Trade_History'].apply(lambda x: pd.Series(clean_and_parse_trade_history(x)))\n",
    "\n",
    "\n",
    "print(data.head())\n",
    "\n"
   ]
  },
  {
   "cell_type": "code",
   "execution_count": 5,
   "metadata": {},
   "outputs": [
    {
     "name": "stdout",
     "output_type": "stream",
     "text": [
      "0    [{'time': 1718899656000, 'symbol': 'SOLUSDT', ...\n",
      "1    [{'time': 1718980078000, 'symbol': 'NEARUSDT',...\n",
      "2    [{'time': 1718677164000, 'symbol': 'ETHUSDT', ...\n",
      "3    [{'time': 1718678214000, 'symbol': 'ETHUSDT', ...\n",
      "4    [{'time': 1718979615000, 'symbol': 'ETHUSDT', ...\n",
      "Name: Trade_History, dtype: object\n"
     ]
    }
   ],
   "source": [
    "print(data['Trade_History'].head())\n"
   ]
  },
  {
   "cell_type": "code",
   "execution_count": 28,
   "metadata": {},
   "outputs": [
    {
     "name": "stdout",
     "output_type": "stream",
     "text": [
      "0     []\n",
      "94    []\n",
      "96    []\n",
      "97    []\n",
      "98    []\n",
      "Name: realizedProfit, dtype: object\n"
     ]
    }
   ],
   "source": [
    "print(data['realizedProfit'].head())\n"
   ]
  },
  {
   "cell_type": "code",
   "execution_count": null,
   "metadata": {},
   "outputs": [],
   "source": []
  },
  {
   "cell_type": "code",
   "execution_count": 27,
   "metadata": {},
   "outputs": [
    {
     "name": "stdout",
     "output_type": "stream",
     "text": [
      "              Port_IDs  Realized_PnL  Unrealized_PnL  Total_PnL\n",
      "0  3925368433214965504            10               0         10\n",
      "1  4002413037164645377            -5              -5        -10\n"
     ]
    }
   ],
   "source": [
    "def calculate_pnl(row):\n",
    "   \n",
    "    if isinstance(row['realizedProfit'], list):\n",
    "        realized_profit_sum = sum(row['realizedProfit'])\n",
    "        unrealized_profit_sum = sum([profit for profit in row['realizedProfit'] if profit < 0])\n",
    "    else:\n",
    "        realized_profit_sum = row['realizedProfit']\n",
    "        unrealized_profit_sum = row['realizedProfit'] if row['realizedProfit'] < 0 else 0\n",
    "    \n",
    "    total_pnl = realized_profit_sum + unrealized_profit_sum\n",
    "    return realized_profit_sum, unrealized_profit_sum, total_pnl\n",
    "\n",
    "data['Realized_PnL'], data['Unrealized_PnL'], data['Total_PnL'] = zip(*data.apply(calculate_pnl, axis=1))\n",
    "\n",
    "print(data[['Port_IDs', 'Realized_PnL', 'Unrealized_PnL', 'Total_PnL']].head())\n"
   ]
  },
  {
   "cell_type": "code",
   "execution_count": 7,
   "metadata": {},
   "outputs": [
    {
     "name": "stdout",
     "output_type": "stream",
     "text": [
      "              Port_IDs  ROI\n",
      "0  3925368433214965504  0.0\n",
      "1  4002413037164645377  0.0\n",
      "2  3923766029921022977  0.0\n",
      "3  3994879592543698688  0.0\n",
      "4  3926423286576838657  0.0\n"
     ]
    }
   ],
   "source": [
    "def calculate_roi(row):\n",
    "    initial_investment = 1000\n",
    "    roi = (row['Total_PnL'] / initial_investment) * 100\n",
    "    return roi\n",
    "\n",
    "data['ROI'] = data.apply(calculate_roi, axis=1)\n",
    "\n",
    "print(data[['Port_IDs', 'ROI']].head())\n"
   ]
  },
  {
   "cell_type": "code",
   "execution_count": 8,
   "metadata": {},
   "outputs": [
    {
     "name": "stdout",
     "output_type": "stream",
     "text": [
      "                Port_IDs  ROI\n",
      "0    3925368433214965504  0.0\n",
      "94   3944088772635000577  0.0\n",
      "96   4004713168329653760  0.0\n",
      "97   3930688517098515713  0.0\n",
      "98   3949329502284748801  0.0\n",
      "99   3784403294629753856  0.0\n",
      "100  3977078013600312321  0.0\n",
      "101  4013955990069013504  0.0\n",
      "102  3951723256343550465  0.0\n",
      "103  3858510226868015873  0.0\n",
      "104  4030708912786799105  0.0\n",
      "105  4030635536196756737  0.0\n",
      "106  4030392204221219329  0.0\n",
      "107  4008711265867865600  0.0\n",
      "108  3962024093501274881  0.0\n",
      "109  4039279455324236544  0.0\n",
      "110  4029507714735307777  0.0\n",
      "95   3946087913459823360  0.0\n",
      "93   4035034554469394176  0.0\n",
      "112  4016164457907769600  0.0\n"
     ]
    }
   ],
   "source": [
    "\n",
    "data = data.sort_values(by='ROI', ascending=False)\n",
    "\n",
    "top_20_accounts = data.head(20)\n",
    "print(top_20_accounts[['Port_IDs', 'ROI']])\n"
   ]
  },
  {
   "cell_type": "code",
   "execution_count": 10,
   "metadata": {},
   "outputs": [],
   "source": [
    "import numpy as np\n",
    "\n",
    "def calculate_sharpe_ratio(row, risk_free_rate=0):\n",
    "   \n",
    "    pnl_series = row['Total_PnL']\n",
    "    \n",
    "\n",
    "    mean_return = np.mean(pnl_series) if isinstance(pnl_series, list) else pnl_series\n",
    "    std_return = np.std(pnl_series) if isinstance(pnl_series, list) else 0  \n",
    "\n",
    "  \n",
    "    sharpe_ratio = (mean_return - risk_free_rate) / std_return if std_return != 0 else 0\n",
    "    return sharpe_ratio\n"
   ]
  },
  {
   "cell_type": "code",
   "execution_count": 11,
   "metadata": {},
   "outputs": [
    {
     "name": "stdout",
     "output_type": "stream",
     "text": [
      "               Port_IDs  Sharpe Ratio\n",
      "0   3925368433214965504             0\n",
      "94  3944088772635000577             0\n",
      "96  4004713168329653760             0\n",
      "97  3930688517098515713             0\n",
      "98  3949329502284748801             0\n"
     ]
    }
   ],
   "source": [
    "\n",
    "data['Sharpe Ratio'] = data.apply(calculate_sharpe_ratio, axis=1)\n",
    "\n",
    "\n",
    "print(data[['Port_IDs', 'Sharpe Ratio']].head())\n"
   ]
  },
  {
   "cell_type": "code",
   "execution_count": 12,
   "metadata": {},
   "outputs": [],
   "source": [
    "def clean_and_parse_trade_history(trade_history_str):\n",
    "    if isinstance(trade_history_str, str):\n",
    "        try:\n",
    "            trade_history_str = trade_history_str.replace(\"'\", '\"')\n",
    "            trade_history = json.loads(trade_history_str)\n",
    "        except json.JSONDecodeError:\n",
    "          \n",
    "            return [], [], []\n",
    "    else:\n",
    "        \n",
    "        return [], [], []\n",
    "\n",
    "   \n",
    "    realized_profits = []\n",
    "    quantities = []\n",
    "    positions = []\n",
    "\n",
    "    for trade in trade_history:\n",
    "        realized_profits.append(trade.get('realizedProfit', 0))\n",
    "        quantities.append(trade.get('qty', 0))\n",
    "        positions.append(trade.get('positionSide', ''))\n",
    "\n",
    "    return realized_profits, quantities, positions\n"
   ]
  },
  {
   "cell_type": "code",
   "execution_count": 18,
   "metadata": {},
   "outputs": [
    {
     "name": "stdout",
     "output_type": "stream",
     "text": [
      "               Port_IDs  MDD\n",
      "0   3925368433214965504    0\n",
      "94  3944088772635000577    0\n",
      "96  4004713168329653760    0\n",
      "97  3930688517098515713    0\n",
      "98  3949329502284748801    0\n"
     ]
    }
   ],
   "source": [
    "def calculate_max_drawdown(prices):\n",
    "   \n",
    "    if isinstance(prices, (list, pd.Series)): \n",
    "        max_drawdown = 0\n",
    "        max_price = prices[0]\n",
    "\n",
    "        for price in prices:\n",
    "            if price > max_price:\n",
    "                max_price = price\n",
    "            drawdown = (max_price - price) / max_price\n",
    "            if drawdown > max_drawdown:\n",
    "                max_drawdown = drawdown\n",
    "        return max_drawdown\n",
    "    else:\n",
    "        \n",
    "        return 0\n",
    "\n",
    "data['MDD'] = data['Total_PnL'].apply(lambda x: calculate_max_drawdown(x))\n",
    "\n",
    "\n",
    "print(data[['Port_IDs', 'MDD']].head())\n",
    "\n"
   ]
  },
  {
   "cell_type": "code",
   "execution_count": 21,
   "metadata": {},
   "outputs": [
    {
     "name": "stdout",
     "output_type": "stream",
     "text": [
      "               Port_IDs  Win Rate\n",
      "0   3925368433214965504       NaN\n",
      "94  3944088772635000577       NaN\n",
      "96  4004713168329653760       NaN\n",
      "97  3930688517098515713       NaN\n",
      "98  3949329502284748801       NaN\n"
     ]
    }
   ],
   "source": [
    "import json\n",
    "import numpy as np\n",
    "\n",
    "def calculate_win_rate(row):\n",
    "   \n",
    "    trades = row['Trade_History']\n",
    "    \n",
    "    if isinstance(trades, str):\n",
    "        try:\n",
    "            trades = json.loads(trades)  \n",
    "        except json.JSONDecodeError:\n",
    "            trades = []  \n",
    "    elif isinstance(trades, float) and np.isnan(trades):\n",
    "        trades = []\n",
    "    elif not isinstance(trades, list):\n",
    "        trades = []  \n",
    "\n",
    "    total_positions = len(trades)\n",
    "    win_positions = len([trade for trade in trades if trade.get('realizedProfit', 0) > 0])  \n",
    "    \n",
    "    return win_positions, total_positions\n",
    "\n",
    "data[['Win_Positions', 'Total_Positions']] = data.apply(calculate_win_rate, axis=1, result_type='expand')\n",
    "\n",
    "\n",
    "data['Win Rate'] = data['Win_Positions'] / data['Total_Positions'] * 100\n",
    "\n",
    "\n",
    "print(data[['Port_IDs', 'Win Rate']].head())\n",
    "\n"
   ]
  },
  {
   "cell_type": "code",
   "execution_count": 23,
   "metadata": {},
   "outputs": [
    {
     "name": "stdout",
     "output_type": "stream",
     "text": [
      "Index(['Port_IDs', 'Trade_History', 'realizedProfit', 'quantity',\n",
      "       'positionSide', 'Realized_PnL', 'Unrealized_PnL', 'Total_PnL', 'ROI',\n",
      "       'Sharpe Ratio', 'MDD', 'Win_Positions', 'Total_Positions', 'Win Rate'],\n",
      "      dtype='object')\n",
      "                Port_IDs  ROI  Total_PnL  Sharpe Ratio  MDD  Win Rate\n",
      "0    3925368433214965504  0.0          0             0    0       NaN\n",
      "94   3944088772635000577  0.0          0             0    0       NaN\n",
      "96   4004713168329653760  0.0          0             0    0       NaN\n",
      "97   3930688517098515713  0.0          0             0    0       NaN\n",
      "98   3949329502284748801  0.0          0             0    0       NaN\n",
      "99   3784403294629753856  0.0          0             0    0       NaN\n",
      "100  3977078013600312321  0.0          0             0    0       NaN\n",
      "101  4013955990069013504  0.0          0             0    0       NaN\n",
      "102  3951723256343550465  0.0          0             0    0       NaN\n",
      "103  3858510226868015873  0.0          0             0    0       NaN\n",
      "104  4030708912786799105  0.0          0             0    0       NaN\n",
      "105  4030635536196756737  0.0          0             0    0       NaN\n",
      "106  4030392204221219329  0.0          0             0    0       NaN\n",
      "107  4008711265867865600  0.0          0             0    0       NaN\n",
      "108  3962024093501274881  0.0          0             0    0       NaN\n",
      "109  4039279455324236544  0.0          0             0    0       NaN\n",
      "110  4029507714735307777  0.0          0             0    0       NaN\n",
      "95   3946087913459823360  0.0          0             0    0       NaN\n",
      "93   4035034554469394176  0.0          0             0    0       NaN\n",
      "112  4016164457907769600  0.0          0             0    0       NaN\n"
     ]
    }
   ],
   "source": [
    "\n",
    "print(data.columns)\n",
    "\n",
    "\n",
    "top_20 = data.head(20)\n",
    "\n",
    "\n",
    "print(top_20[['Port_IDs', 'ROI', 'Total_PnL', 'Sharpe Ratio', 'MDD', 'Win Rate']])\n",
    "\n",
    "\n",
    "top_20.to_csv('top_20_accounts.csv', index=False)\n"
   ]
  }
 ],
 "metadata": {
  "kernelspec": {
   "display_name": "Python 3",
   "language": "python",
   "name": "python3"
  },
  "language_info": {
   "codemirror_mode": {
    "name": "ipython",
    "version": 3
   },
   "file_extension": ".py",
   "mimetype": "text/x-python",
   "name": "python",
   "nbconvert_exporter": "python",
   "pygments_lexer": "ipython3",
   "version": "3.12.5"
  }
 },
 "nbformat": 4,
 "nbformat_minor": 2
}
